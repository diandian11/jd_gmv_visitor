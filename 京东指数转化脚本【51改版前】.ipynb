{
 "cells": [
  {
   "cell_type": "code",
   "execution_count": 1,
   "metadata": {},
   "outputs": [],
   "source": [
    "import pandas as pd \n",
    "import numpy as np\n",
    "from scipy.optimize import curve_fit  \n",
    "import matplotlib.pyplot as plt \n",
    "from datetime import datetime\n",
    "from datetime import date\n",
    "from  datetime import timedelta\n",
    "import time\n",
    "from impala.dbapi import connect\n",
    "from impala.util import as_pandas\n",
    "import json\n",
    "import pymysql\n",
    "from sqlalchemy import create_engine\n",
    "import os"
   ]
  },
  {
   "cell_type": "code",
   "execution_count": 2,
   "metadata": {},
   "outputs": [],
   "source": [
    "### 读取调整分割点final系数表\n",
    "df_c = pd.read_excel('./分段系数表调整分割点v2.xlsx',sheet_name= '系数表',index_col = 'point')"
   ]
  },
  {
   "cell_type": "code",
   "execution_count": 3,
   "metadata": {},
   "outputs": [],
   "source": [
    "def fund(x, a, b):  \n",
    "    \"\"\"gmv = a*exp(ln指数*b)\"\"\"\n",
    "    return a * np.exp(b * x)"
   ]
  },
  {
   "cell_type": "code",
   "execution_count": 4,
   "metadata": {},
   "outputs": [],
   "source": [
    "def fun_fit(x):\n",
    "    '''按指数范围指数阶段函数'''\n",
    "    global df_c\n",
    "    list3 = df_c.index\n",
    "    if  x<list3[1]:\n",
    "        a = df_c.loc[list3[0],'a']\n",
    "        b = df_c.loc[list3[0],'b']\n",
    "    elif list3[1]<=x<list3[2]:\n",
    "        a = df_c.loc[list3[1],'a']\n",
    "        b = df_c.loc[list3[1],'b']  \n",
    "    elif list3[2]<=x<list3[3]:\n",
    "        a = df_c.loc[list3[2],'a']\n",
    "        b = df_c.loc[list3[2],'b']  \n",
    "    elif list3[3]<=x<list3[4]:\n",
    "        a = df_c.loc[list3[3],'a']\n",
    "        b = df_c.loc[list3[3],'b']\n",
    "    elif list3[4]<=x<list3[5]:\n",
    "        a = df_c.loc[list3[4],'a']\n",
    "        b = df_c.loc[list3[4],'b']\n",
    "    elif list3[5]<=x<list3[6]:\n",
    "        a = df_c.loc[list3[5],'a']\n",
    "        b = df_c.loc[list3[5],'b']  \n",
    "    elif list3[6]<=x<list3[7]:\n",
    "        a = df_c.loc[list3[6],'a']\n",
    "        b = df_c.loc[list3[6],'b']  \n",
    "    elif list3[7]<=x<list3[8]:\n",
    "        a = df_c.loc[list3[7],'a']\n",
    "        b = df_c.loc[list3[7],'b']\n",
    "    elif list3[8]<=x<list3[9]:\n",
    "        a = df_c.loc[list3[8],'a']\n",
    "        b = df_c.loc[list3[8],'b']  \n",
    "    elif list3[9]<=x<list3[10]:\n",
    "        a = df_c.loc[list3[9],'a']\n",
    "        b = df_c.loc[list3[9],'b']  \n",
    "    elif list3[10]<=x<list3[11]:\n",
    "        a = df_c.loc[list3[10],'a']\n",
    "        b = df_c.loc[list3[10],'b']\n",
    "    elif list3[11]<=x<list3[12]:\n",
    "        a = df_c.loc[list3[11],'a']\n",
    "        b = df_c.loc[list3[11],'b']\n",
    "    elif list3[12]<=x<list3[13]:\n",
    "        a = df_c.loc[list3[12],'a']\n",
    "        b = df_c.loc[list3[12],'b']  \n",
    "    elif list3[13]<=x<list3[14]:\n",
    "        a = df_c.loc[list3[13],'a']\n",
    "        b = df_c.loc[list3[13],'b']  \n",
    "    elif list3[14]<=x<list3[15]:\n",
    "        a = df_c.loc[list3[14],'a']\n",
    "        b = df_c.loc[list3[14],'b']\n",
    "    elif list3[15]<=x<list3[16]:\n",
    "        a = df_c.loc[list3[15],'a']\n",
    "        b = df_c.loc[list3[15],'b']  \n",
    "    elif list3[16]<=x<list3[17]:\n",
    "        a = df_c.loc[list3[16],'a']\n",
    "        b = df_c.loc[list3[16],'b']  \n",
    "    elif list3[17]<=x<list3[18]:\n",
    "        a = df_c.loc[list3[17],'a']\n",
    "        b = df_c.loc[list3[17],'b']\n",
    "    elif list3[18]<=x<list3[19]:\n",
    "        a = df_c.loc[list3[18],'a']\n",
    "        b = df_c.loc[list3[18],'b']\n",
    "    elif list3[19]<=x<list3[20]:\n",
    "        a = df_c.loc[list3[19],'a']\n",
    "        b = df_c.loc[list3[19],'b']\n",
    "    elif list3[20]<=x<list3[21]:\n",
    "        a = df_c.loc[list3[20],'a']\n",
    "        b = df_c.loc[list3[20],'b']\n",
    "    elif list3[21]<=x<list3[22]:\n",
    "        a = df_c.loc[list3[21],'a']\n",
    "        b = df_c.loc[list3[21],'b']\n",
    "    else:\n",
    "        a = df_c.loc[list3[22],'a']\n",
    "        b = df_c.loc[list3[22],'b']\n",
    "    y = fund(np.log(x),a,b)\n",
    "    return y"
   ]
  },
  {
   "cell_type": "code",
   "execution_count": 5,
   "metadata": {},
   "outputs": [],
   "source": [
    "def fitted(flag,col, data1):\n",
    "    '''定义一个计算指数转换的函数\n",
    "    '''\n",
    "    col_list =col\n",
    "    data2 = data1.copy()\n",
    "    for i in col_list:\n",
    "        data2[i.strip('_index')] = data2[i].map(lambda x: fun_fit(x))\n",
    "        if flag == 1:\n",
    "            data2[i+'_error_c']= (data2[i.strip('_index')]- data2[i+'_real'])/ data2[i+'_real']*100\n",
    "    return data2"
   ]
  },
  {
   "cell_type": "code",
   "execution_count": 6,
   "metadata": {},
   "outputs": [],
   "source": [
    "def format_round(data1=None, dict1 = None):\n",
    "    \"\"\"\n",
    "    定义一个保留小数位数（四舍五入）的函数\n",
    "    Args:\n",
    "        data1-- A dataframe which has columns need to fromat the deciaml(default None.dataframe)\n",
    "        dict1-- A dictory of colnames as key , numb of dicmal as value (default None, dict)\n",
    "    Return:\n",
    "        data2 the keep numb deciaml dataframe\n",
    "    \"\"\"\n",
    "    col_list = dict1\n",
    "    data2 = data1.copy()\n",
    "    for key, value in col_list.items():\n",
    "        data2[key] = data2[key].map(lambda x: np.round(x,value))\n",
    "    return data2"
   ]
  },
  {
   "cell_type": "code",
   "execution_count": 8,
   "metadata": {},
   "outputs": [],
   "source": [
    "#### 京东指数取数\n",
    "# 连接集群hive/impala\n",
    "def impala_connect(sql, **kwargs):\n",
    "# impala \n",
    "    host = kwargs.get(\"host\", 'impala.bjds.belle.lan')\n",
    "    port = kwargs.get(\"port\", 21051)    \n",
    "    timeout = kwargs.get(\"timeout\", 3600)\n",
    "# hive\n",
    "    # host = kwargs.get(\"host\", 'impala.bjds.belle.lan')\n",
    "    # port = kwargs.get(\"port\", 10008)    \n",
    "    # timeout = kwargs.get(\"timeout\", 3600)\n",
    "    user = kwargs.get(\"user\", \"lv.d.sz\")\n",
    "    password = kwargs.get(\"password\", 'JHjLXpyQ')\n",
    "    kerberos_service_name = kwargs.get(\"kerberos_service_name\", \"impala\")\n",
    "    conn = connect(host=host, port=port, timeout=timeout, user=user, password=password, kerberos_service_name=\n",
    "                   kerberos_service_name,auth_mechanism='LDAP')\n",
    "    cur = conn.cursor(user=user)\n",
    "    if sql is not None:\n",
    "        cur.execute(sql)\n",
    "        try:\n",
    "            df = as_pandas(cur)\n",
    "        except:\n",
    "            return cur\n",
    "    return df"
   ]
  },
  {
   "cell_type": "code",
   "execution_count": 33,
   "metadata": {},
   "outputs": [],
   "source": [
    "sql_vender_month = \"\"\"\n",
    "-- 二级品类店铺top100月度数据(2019年1月-)\n",
    "select category, child_category, start_day, end_day, date_type, rank, shop_name, gmv_amount_index, order_num_index, visitor_index\n",
    "from  bi_analysis.jd_sz_vender_ranks where \n",
    "category in ('时尚女鞋','流行男鞋','潮流女包','运动鞋包','运动服饰') and child_category = \"\"\n",
    "-- and start_day >= '2020-03-01'\n",
    "and length(date_type) = 6\n",
    "order by start_day, category, rank\n",
    "\"\"\""
   ]
  },
  {
   "cell_type": "code",
   "execution_count": 34,
   "metadata": {},
   "outputs": [],
   "source": [
    "df1 = impala_connect(sql_vender_month)"
   ]
  },
  {
   "cell_type": "code",
   "execution_count": 35,
   "metadata": {},
   "outputs": [
    {
     "output_type": "execute_result",
     "data": {
      "text/plain": "(100, 10)"
     },
     "metadata": {},
     "execution_count": 35
    }
   ],
   "source": [
    "df1.loc[(df1.start_day == '2019-01-01') & (df1.category=='时尚女鞋')].shape"
   ]
  },
  {
   "cell_type": "code",
   "execution_count": 37,
   "metadata": {},
   "outputs": [],
   "source": [
    "fited_result = fitted(flag =0, col =['gmv_amount_index','order_num_index','visitor_index'],data1 = df1) # gmv 访客数 件单数 进行转换\n",
    "df3 = format_round(fited_result,nub = 0, col =['order_num','visitor']) # 调整格式 访客数、件单数保留0位小数"
   ]
  },
  {
   "cell_type": "code",
   "execution_count": 49,
   "metadata": {},
   "outputs": [],
   "source": [
    "# 重命名\n",
    "def re_name_vender(df, platform, date_type, category3, norm_flag):\n",
    "    df['platform'] = platform\n",
    "    df['datetype']= date_type\n",
    "    df.child_category = category3\n",
    "    if norm_flag == 1:\n",
    "        df.drop('date_type', axis =1)\n",
    "    else:\n",
    "        pass\n",
    "    df.rename({'category':'category2_name','child_category':'category3_name','rank':'rank0'},axis=1,inplace= True)\n",
    "    df= df[['platform','category2_name','category3_name','datetype','start_day','end_day','shop_name','rank0','gmv_amount_index','order_num_index','visitor_index','gmv_amount','order_num','visitor']]\n",
    "    return df"
   ]
  },
  {
   "cell_type": "code",
   "execution_count": 50,
   "metadata": {},
   "outputs": [],
   "source": [
    "df3 = re_name_vender(df3, platform = '京东',date_type = 'month',category3='all2',norm_flag =1)"
   ]
  },
  {
   "cell_type": "code",
   "execution_count": 51,
   "metadata": {},
   "outputs": [
    {
     "output_type": "execute_result",
     "data": {
      "text/plain": "  platform category2_name category3_name datetype   start_day     end_day  \\\n0       京东           时尚女鞋           all2    month  2019-01-01  2019-01-31   \n1       京东           时尚女鞋           all2    month  2019-01-01  2019-01-31   \n2       京东           时尚女鞋           all2    month  2019-01-01  2019-01-31   \n3       京东           时尚女鞋           all2    month  2019-01-01  2019-01-31   \n4       京东           时尚女鞋           all2    month  2019-01-01  2019-01-31   \n\n   shop_name  rank0  gmv_amount_index  order_num_index  visitor_index  \\\n0    长龙鞋靴拼购店      1        65677140.0          68024.0       642107.0   \n1     宝丽芙旗舰店      2        44405456.0         695506.0     11179361.0   \n2  百丽集团官方旗舰店      3        41838576.0         372445.0      6093822.0   \n3      心刚拼购店      4        37366448.0          44239.0       594807.0   \n4     足力健旗舰店      5        37073784.0         472459.0      3471572.0   \n\n     gmv_amount  order_num   visitor  \n0  8.382835e+06     1212.0   18119.0  \n1  4.884425e+06    20046.0  748224.0  \n2  4.499678e+06     9206.0  332677.0  \n3  3.854197e+06      742.0   16470.0  \n4  3.813015e+06    12372.0  158415.0  ",
      "text/html": "<div>\n<style scoped>\n    .dataframe tbody tr th:only-of-type {\n        vertical-align: middle;\n    }\n\n    .dataframe tbody tr th {\n        vertical-align: top;\n    }\n\n    .dataframe thead th {\n        text-align: right;\n    }\n</style>\n<table border=\"1\" class=\"dataframe\">\n  <thead>\n    <tr style=\"text-align: right;\">\n      <th></th>\n      <th>platform</th>\n      <th>category2_name</th>\n      <th>category3_name</th>\n      <th>datetype</th>\n      <th>start_day</th>\n      <th>end_day</th>\n      <th>shop_name</th>\n      <th>rank0</th>\n      <th>gmv_amount_index</th>\n      <th>order_num_index</th>\n      <th>visitor_index</th>\n      <th>gmv_amount</th>\n      <th>order_num</th>\n      <th>visitor</th>\n    </tr>\n  </thead>\n  <tbody>\n    <tr>\n      <th>0</th>\n      <td>京东</td>\n      <td>时尚女鞋</td>\n      <td>all2</td>\n      <td>month</td>\n      <td>2019-01-01</td>\n      <td>2019-01-31</td>\n      <td>长龙鞋靴拼购店</td>\n      <td>1</td>\n      <td>65677140.0</td>\n      <td>68024.0</td>\n      <td>642107.0</td>\n      <td>8.382835e+06</td>\n      <td>1212.0</td>\n      <td>18119.0</td>\n    </tr>\n    <tr>\n      <th>1</th>\n      <td>京东</td>\n      <td>时尚女鞋</td>\n      <td>all2</td>\n      <td>month</td>\n      <td>2019-01-01</td>\n      <td>2019-01-31</td>\n      <td>宝丽芙旗舰店</td>\n      <td>2</td>\n      <td>44405456.0</td>\n      <td>695506.0</td>\n      <td>11179361.0</td>\n      <td>4.884425e+06</td>\n      <td>20046.0</td>\n      <td>748224.0</td>\n    </tr>\n    <tr>\n      <th>2</th>\n      <td>京东</td>\n      <td>时尚女鞋</td>\n      <td>all2</td>\n      <td>month</td>\n      <td>2019-01-01</td>\n      <td>2019-01-31</td>\n      <td>百丽集团官方旗舰店</td>\n      <td>3</td>\n      <td>41838576.0</td>\n      <td>372445.0</td>\n      <td>6093822.0</td>\n      <td>4.499678e+06</td>\n      <td>9206.0</td>\n      <td>332677.0</td>\n    </tr>\n    <tr>\n      <th>3</th>\n      <td>京东</td>\n      <td>时尚女鞋</td>\n      <td>all2</td>\n      <td>month</td>\n      <td>2019-01-01</td>\n      <td>2019-01-31</td>\n      <td>心刚拼购店</td>\n      <td>4</td>\n      <td>37366448.0</td>\n      <td>44239.0</td>\n      <td>594807.0</td>\n      <td>3.854197e+06</td>\n      <td>742.0</td>\n      <td>16470.0</td>\n    </tr>\n    <tr>\n      <th>4</th>\n      <td>京东</td>\n      <td>时尚女鞋</td>\n      <td>all2</td>\n      <td>month</td>\n      <td>2019-01-01</td>\n      <td>2019-01-31</td>\n      <td>足力健旗舰店</td>\n      <td>5</td>\n      <td>37073784.0</td>\n      <td>472459.0</td>\n      <td>3471572.0</td>\n      <td>3.813015e+06</td>\n      <td>12372.0</td>\n      <td>158415.0</td>\n    </tr>\n  </tbody>\n</table>\n</div>"
     },
     "metadata": {},
     "execution_count": 51
    }
   ],
   "source": [
    "df3.head()"
   ]
  },
  {
   "cell_type": "code",
   "execution_count": null,
   "metadata": {},
   "outputs": [],
   "source": [
    "### 数据写入到mysql数据"
   ]
  },
  {
   "cell_type": "code",
   "execution_count": 52,
   "metadata": {},
   "outputs": [],
   "source": [
    "conn = create_engine('mysql+mysqlconnector://sz_analy:Belle2020@sz@10.251.11.5:3306/bi_analysis_sz?charset=utf8',encoding ='utf-8')   \n",
    "pd.io.sql.to_sql(df3,'jd_sz_vender_ranks_real', con=conn,chunksize=1000, schema='bi_analysis_sz',index=False,if_exists='replace') # append是追加的形式写入；replace"
   ]
  },
  {
   "cell_type": "code",
   "execution_count": 27,
   "metadata": {},
   "outputs": [],
   "source": [
    "### 京东市场大盘[月度数据暂时不能使用 2级品类直接转换，需要3级品类相加]\n",
    "# 取月度数据，二级，三级品类，\n",
    "sql_industry = \"\"\"\n",
    "select category, child_category, start_day, end_day, date_type, cust_price_avg_value, ord_amt_index_value, convert_rate_value, uv_index_value,\n",
    "ord_num_index_value, ord_pro_num_value from bi_analysis.jd_sz_industry_summary_data where category in ('运动服饰','流行男鞋','运动鞋包','潮流女包')  and length(date_type) = 6\n",
    "\"\"\"\n",
    "df_industry = impala_connect(sql_industry)"
   ]
  },
  {
   "cell_type": "code",
   "execution_count": 28,
   "metadata": {},
   "outputs": [
    {
     "output_type": "execute_result",
     "data": {
      "text/plain": "  category child_category   start_day     end_day date_type  \\\n0     流行男鞋                 2019-02-01  2019-02-28    201902   \n1     流行男鞋          商务休闲鞋  2019-01-01  2019-01-31    201901   \n2     流行男鞋            鞋配件  2019-03-01  2019-03-31    201903   \n3     流行男鞋          雨鞋/雨靴  2019-02-01  2019-02-28    201902   \n4     潮流女包         卡包/零钱包  2019-08-01  2019-08-31    201908   \n\n   cust_price_avg_value  ord_amt_index_value  convert_rate_value  \\\n0            180.931580         1.766956e+09              0.0876   \n1            227.374084         5.262763e+08              0.0720   \n2             32.505112         1.233298e+08              0.2729   \n3             62.547394         3.126075e+07              0.1125   \n4             27.717632         2.159004e+07              0.0567   \n\n   uv_index_value  ord_num_index_value  ord_pro_num_value  \n0     233715360.0           47214248.0          2394063.0  \n1      65759856.0            9113962.0           225491.0  \n2      23559316.0            9068323.0           328341.0  \n3       6867518.0            1241693.0            21201.0  \n4      15215511.0            1657828.0            41344.0  ",
      "text/html": "<div>\n<style scoped>\n    .dataframe tbody tr th:only-of-type {\n        vertical-align: middle;\n    }\n\n    .dataframe tbody tr th {\n        vertical-align: top;\n    }\n\n    .dataframe thead th {\n        text-align: right;\n    }\n</style>\n<table border=\"1\" class=\"dataframe\">\n  <thead>\n    <tr style=\"text-align: right;\">\n      <th></th>\n      <th>category</th>\n      <th>child_category</th>\n      <th>start_day</th>\n      <th>end_day</th>\n      <th>date_type</th>\n      <th>cust_price_avg_value</th>\n      <th>ord_amt_index_value</th>\n      <th>convert_rate_value</th>\n      <th>uv_index_value</th>\n      <th>ord_num_index_value</th>\n      <th>ord_pro_num_value</th>\n    </tr>\n  </thead>\n  <tbody>\n    <tr>\n      <th>0</th>\n      <td>流行男鞋</td>\n      <td></td>\n      <td>2019-02-01</td>\n      <td>2019-02-28</td>\n      <td>201902</td>\n      <td>180.931580</td>\n      <td>1.766956e+09</td>\n      <td>0.0876</td>\n      <td>233715360.0</td>\n      <td>47214248.0</td>\n      <td>2394063.0</td>\n    </tr>\n    <tr>\n      <th>1</th>\n      <td>流行男鞋</td>\n      <td>商务休闲鞋</td>\n      <td>2019-01-01</td>\n      <td>2019-01-31</td>\n      <td>201901</td>\n      <td>227.374084</td>\n      <td>5.262763e+08</td>\n      <td>0.0720</td>\n      <td>65759856.0</td>\n      <td>9113962.0</td>\n      <td>225491.0</td>\n    </tr>\n    <tr>\n      <th>2</th>\n      <td>流行男鞋</td>\n      <td>鞋配件</td>\n      <td>2019-03-01</td>\n      <td>2019-03-31</td>\n      <td>201903</td>\n      <td>32.505112</td>\n      <td>1.233298e+08</td>\n      <td>0.2729</td>\n      <td>23559316.0</td>\n      <td>9068323.0</td>\n      <td>328341.0</td>\n    </tr>\n    <tr>\n      <th>3</th>\n      <td>流行男鞋</td>\n      <td>雨鞋/雨靴</td>\n      <td>2019-02-01</td>\n      <td>2019-02-28</td>\n      <td>201902</td>\n      <td>62.547394</td>\n      <td>3.126075e+07</td>\n      <td>0.1125</td>\n      <td>6867518.0</td>\n      <td>1241693.0</td>\n      <td>21201.0</td>\n    </tr>\n    <tr>\n      <th>4</th>\n      <td>潮流女包</td>\n      <td>卡包/零钱包</td>\n      <td>2019-08-01</td>\n      <td>2019-08-31</td>\n      <td>201908</td>\n      <td>27.717632</td>\n      <td>2.159004e+07</td>\n      <td>0.0567</td>\n      <td>15215511.0</td>\n      <td>1657828.0</td>\n      <td>41344.0</td>\n    </tr>\n  </tbody>\n</table>\n</div>"
     },
     "metadata": {},
     "execution_count": 28
    }
   ],
   "source": [
    "df_industry.head()"
   ]
  },
  {
   "cell_type": "code",
   "execution_count": 29,
   "metadata": {},
   "outputs": [
    {
     "output_type": "execute_result",
     "data": {
      "text/plain": "array(['流行男鞋', '潮流女包'], dtype=object)"
     },
     "metadata": {},
     "execution_count": 29
    }
   ],
   "source": [
    "df_industry['category'].unique()"
   ]
  },
  {
   "cell_type": "code",
   "execution_count": 11,
   "metadata": {},
   "outputs": [
    {
     "output_type": "execute_result",
     "data": {
      "text/plain": "  category child_category   start_day     end_day date_type  \\\n0     潮流女包                 2019-04-01  2019-04-30    201904   \n1     潮流女包            钥匙包  2020-01-01  2020-01-31    202001   \n2     潮流女包            化妆包  2019-11-01  2019-11-30    201911   \n3     潮流女包                 2019-03-01  2019-03-31    201903   \n4     潮流女包            手提包  2019-01-01  2019-01-31    201901   \n\n   cust_price_avg_value  ord_amt_index_value  convert_rate_value  \\\n0            173.847824          854760320.0              0.0611   \n1             71.863686            5535181.0              0.0396   \n2             40.241833            9136534.0              0.0633   \n3            176.036102          970031104.0              0.0626   \n4            255.496674          186956000.0              0.0290   \n\n   uv_index_value  ord_num_index_value  ord_pro_num_value  \n0     149737648.0           21243842.0           719425.0  \n1       2393312.0             162000.0             1839.0  \n2       4361647.0             463001.0             5800.0  \n3     165656432.0           23960268.0           846711.0  \n4      41434108.0            2686685.0            48313.0  ",
      "text/html": "<div>\n<style scoped>\n    .dataframe tbody tr th:only-of-type {\n        vertical-align: middle;\n    }\n\n    .dataframe tbody tr th {\n        vertical-align: top;\n    }\n\n    .dataframe thead th {\n        text-align: right;\n    }\n</style>\n<table border=\"1\" class=\"dataframe\">\n  <thead>\n    <tr style=\"text-align: right;\">\n      <th></th>\n      <th>category</th>\n      <th>child_category</th>\n      <th>start_day</th>\n      <th>end_day</th>\n      <th>date_type</th>\n      <th>cust_price_avg_value</th>\n      <th>ord_amt_index_value</th>\n      <th>convert_rate_value</th>\n      <th>uv_index_value</th>\n      <th>ord_num_index_value</th>\n      <th>ord_pro_num_value</th>\n    </tr>\n  </thead>\n  <tbody>\n    <tr>\n      <th>0</th>\n      <td>潮流女包</td>\n      <td></td>\n      <td>2019-04-01</td>\n      <td>2019-04-30</td>\n      <td>201904</td>\n      <td>173.847824</td>\n      <td>854760320.0</td>\n      <td>0.0611</td>\n      <td>149737648.0</td>\n      <td>21243842.0</td>\n      <td>719425.0</td>\n    </tr>\n    <tr>\n      <th>1</th>\n      <td>潮流女包</td>\n      <td>钥匙包</td>\n      <td>2020-01-01</td>\n      <td>2020-01-31</td>\n      <td>202001</td>\n      <td>71.863686</td>\n      <td>5535181.0</td>\n      <td>0.0396</td>\n      <td>2393312.0</td>\n      <td>162000.0</td>\n      <td>1839.0</td>\n    </tr>\n    <tr>\n      <th>2</th>\n      <td>潮流女包</td>\n      <td>化妆包</td>\n      <td>2019-11-01</td>\n      <td>2019-11-30</td>\n      <td>201911</td>\n      <td>40.241833</td>\n      <td>9136534.0</td>\n      <td>0.0633</td>\n      <td>4361647.0</td>\n      <td>463001.0</td>\n      <td>5800.0</td>\n    </tr>\n    <tr>\n      <th>3</th>\n      <td>潮流女包</td>\n      <td></td>\n      <td>2019-03-01</td>\n      <td>2019-03-31</td>\n      <td>201903</td>\n      <td>176.036102</td>\n      <td>970031104.0</td>\n      <td>0.0626</td>\n      <td>165656432.0</td>\n      <td>23960268.0</td>\n      <td>846711.0</td>\n    </tr>\n    <tr>\n      <th>4</th>\n      <td>潮流女包</td>\n      <td>手提包</td>\n      <td>2019-01-01</td>\n      <td>2019-01-31</td>\n      <td>201901</td>\n      <td>255.496674</td>\n      <td>186956000.0</td>\n      <td>0.0290</td>\n      <td>41434108.0</td>\n      <td>2686685.0</td>\n      <td>48313.0</td>\n    </tr>\n  </tbody>\n</table>\n</div>"
     },
     "metadata": {},
     "execution_count": 11
    }
   ],
   "source": [
    "\n",
    "df_industry.head()"
   ]
  },
  {
   "cell_type": "code",
   "execution_count": 12,
   "metadata": {},
   "outputs": [],
   "source": [
    "# 重命名\n",
    "def fill_category3(df):\n",
    "    if df['child_category']==\"\":\n",
    "        x='all2'\n",
    "    else:\n",
    "        x=df['child_category']\n",
    "    return x\n",
    "def re_name_industry(df, platform, date_type, norm_flag):\n",
    "    df['platform'] = platform\n",
    "    df['datetype']= date_type\n",
    "    df['child_category'] = df.apply(lambda x: fill_category3(x), axis=1)\n",
    "    if norm_flag == 1:\n",
    "        df.drop('date_type', axis =1)\n",
    "    else:\n",
    "        pass\n",
    "    df.rename({'category':'category2_name','child_category':'category3_name','cust_price_avg_value':'cust_price_value','ord_amt_index_value':'ord_gmv_index','uv_index_value':'uv_index','ord_num_index_value':'ord_num_index','ord_pro_num_value':'ord_pro_num_index'},axis=1,inplace= True)\n",
    "    df= df[['platform','category2_name','category3_name','datetype','start_day','end_day','cust_price_value','ord_gmv_index','uv_index','ord_num_index','ord_pro_num_index']]\n",
    "    return df"
   ]
  },
  {
   "cell_type": "code",
   "execution_count": 13,
   "metadata": {},
   "outputs": [],
   "source": [
    "df_industry = re_name_industry(df=df_industry, platform='京东', date_type='month', norm_flag=1)"
   ]
  },
  {
   "cell_type": "code",
   "execution_count": 14,
   "metadata": {},
   "outputs": [
    {
     "output_type": "execute_result",
     "data": {
      "text/plain": "  platform category2_name category3_name datetype   start_day     end_day  \\\n0       京东           潮流女包           all2    month  2019-04-01  2019-04-30   \n1       京东           潮流女包            钥匙包    month  2020-01-01  2020-01-31   \n2       京东           潮流女包            化妆包    month  2019-11-01  2019-11-30   \n3       京东           潮流女包           all2    month  2019-03-01  2019-03-31   \n4       京东           潮流女包            手提包    month  2019-01-01  2019-01-31   \n\n   cust_price_value  ord_gmv_index     uv_index  ord_num_index  \\\n0        173.847824    854760320.0  149737648.0     21243842.0   \n1         71.863686      5535181.0    2393312.0       162000.0   \n2         40.241833      9136534.0    4361647.0       463001.0   \n3        176.036102    970031104.0  165656432.0     23960268.0   \n4        255.496674    186956000.0   41434108.0      2686685.0   \n\n   ord_pro_num_index  \n0           719425.0  \n1             1839.0  \n2             5800.0  \n3           846711.0  \n4            48313.0  ",
      "text/html": "<div>\n<style scoped>\n    .dataframe tbody tr th:only-of-type {\n        vertical-align: middle;\n    }\n\n    .dataframe tbody tr th {\n        vertical-align: top;\n    }\n\n    .dataframe thead th {\n        text-align: right;\n    }\n</style>\n<table border=\"1\" class=\"dataframe\">\n  <thead>\n    <tr style=\"text-align: right;\">\n      <th></th>\n      <th>platform</th>\n      <th>category2_name</th>\n      <th>category3_name</th>\n      <th>datetype</th>\n      <th>start_day</th>\n      <th>end_day</th>\n      <th>cust_price_value</th>\n      <th>ord_gmv_index</th>\n      <th>uv_index</th>\n      <th>ord_num_index</th>\n      <th>ord_pro_num_index</th>\n    </tr>\n  </thead>\n  <tbody>\n    <tr>\n      <th>0</th>\n      <td>京东</td>\n      <td>潮流女包</td>\n      <td>all2</td>\n      <td>month</td>\n      <td>2019-04-01</td>\n      <td>2019-04-30</td>\n      <td>173.847824</td>\n      <td>854760320.0</td>\n      <td>149737648.0</td>\n      <td>21243842.0</td>\n      <td>719425.0</td>\n    </tr>\n    <tr>\n      <th>1</th>\n      <td>京东</td>\n      <td>潮流女包</td>\n      <td>钥匙包</td>\n      <td>month</td>\n      <td>2020-01-01</td>\n      <td>2020-01-31</td>\n      <td>71.863686</td>\n      <td>5535181.0</td>\n      <td>2393312.0</td>\n      <td>162000.0</td>\n      <td>1839.0</td>\n    </tr>\n    <tr>\n      <th>2</th>\n      <td>京东</td>\n      <td>潮流女包</td>\n      <td>化妆包</td>\n      <td>month</td>\n      <td>2019-11-01</td>\n      <td>2019-11-30</td>\n      <td>40.241833</td>\n      <td>9136534.0</td>\n      <td>4361647.0</td>\n      <td>463001.0</td>\n      <td>5800.0</td>\n    </tr>\n    <tr>\n      <th>3</th>\n      <td>京东</td>\n      <td>潮流女包</td>\n      <td>all2</td>\n      <td>month</td>\n      <td>2019-03-01</td>\n      <td>2019-03-31</td>\n      <td>176.036102</td>\n      <td>970031104.0</td>\n      <td>165656432.0</td>\n      <td>23960268.0</td>\n      <td>846711.0</td>\n    </tr>\n    <tr>\n      <th>4</th>\n      <td>京东</td>\n      <td>潮流女包</td>\n      <td>手提包</td>\n      <td>month</td>\n      <td>2019-01-01</td>\n      <td>2019-01-31</td>\n      <td>255.496674</td>\n      <td>186956000.0</td>\n      <td>41434108.0</td>\n      <td>2686685.0</td>\n      <td>48313.0</td>\n    </tr>\n  </tbody>\n</table>\n</div>"
     },
     "metadata": {},
     "execution_count": 14
    }
   ],
   "source": [
    "df_industry.head()"
   ]
  },
  {
   "cell_type": "code",
   "execution_count": 15,
   "metadata": {},
   "outputs": [],
   "source": [
    "def fitted_indu(col, df):\n",
    "    '''\n",
    "    transfrom index to value for visitor_index, gmv_index, ord_pro_num_index...\n",
    "    Args:\n",
    "        col--A list of columns name of df which need to transtform to real value(list or str)\n",
    "        df--A dataframe whcih include the columns of indexs (dataframe)\n",
    "    Return:\n",
    "        df2 --  the result of convert the index (dataframe)\n",
    "    Note :\n",
    "    行业大盘指数转换，月度2级品类暂时指数转换测算不太准，目前只对3级品类进行转换，由3级品类相加得到2级品类\n",
    "    '''\n",
    "    col_list =col\n",
    "    data1 = df[df['category3_name']=='all2']\n",
    "    for i in col_list:\n",
    "        if i == 'ord_gmv_index':\n",
    "            data1[i.strip('_index')]= data1[i].map(lambda x: 0)# 对于2级品类的数据较大，转换存在误差，故不对其进行转换，使用0 暂时填充替换\n",
    "        else:\n",
    "            data1[i.strip('_index')] = data1[i].map(lambda x: fun_fit(x))\n",
    "    data2 = df[df['category3_name']!='all2']\n",
    "    for i in col_list:\n",
    "        data2[i.strip('_index')] = data2[i].map(lambda x: fun_fit(x))\n",
    "    df2 = pd.concat([data1,data2])\n",
    "    return df2"
   ]
  },
  {
   "cell_type": "code",
   "execution_count": 16,
   "metadata": {},
   "outputs": [],
   "source": [
    "df_industry2 = fitted_indu(df = df_industry,col=['ord_gmv_index','uv_index','ord_num_index','ord_pro_num_index'])"
   ]
  },
  {
   "cell_type": "code",
   "execution_count": 17,
   "metadata": {},
   "outputs": [],
   "source": [
    "def format_round(data1=None, dict1 = None):\n",
    "    \"\"\"\n",
    "    定义一个保留小数位数（四舍五入）的函数\n",
    "    Args:\n",
    "        data1-- A dataframe which has columns need to fromat the deciaml(default None.dataframe)\n",
    "        dict1-- A dictory of colnames as key , numb of dicmal as value (default None, dict)\n",
    "    Return:\n",
    "        data2 the keep numb deciaml dataframe\n",
    "    \"\"\"\n",
    "    data2 = data1.copy()\n",
    "    for key, value in dict1.items():\n",
    "        n =value \n",
    "        data2[key] = data2[key].map(lambda x: np.round(x,n))\n",
    "    return data2"
   ]
  },
  {
   "cell_type": "code",
   "execution_count": 18,
   "metadata": {},
   "outputs": [],
   "source": [
    "df_industry2 = format_round(data1=df_industry2, dict1 ={'ord_gmv':2,'uv':0,'ord_num':0, 'ord_pro_num':0})"
   ]
  },
  {
   "cell_type": "code",
   "execution_count": 19,
   "metadata": {},
   "outputs": [
    {
     "output_type": "execute_result",
     "data": {
      "text/plain": "   platform category2_name category3_name datetype   start_day     end_day  \\\n0        京东           潮流女包           all2    month  2019-04-01  2019-04-30   \n3        京东           潮流女包           all2    month  2019-03-01  2019-03-31   \n6        京东           流行男鞋           all2    month  2019-10-01  2019-10-31   \n39       京东           潮流女包           all2    month  2019-08-01  2019-08-31   \n48       京东           流行男鞋           all2    month  2020-03-01  2020-03-31   \n\n    cust_price_value  ord_gmv_index     uv_index  ord_num_index  \\\n0         173.847824   8.547603e+08  149737648.0     21243842.0   \n3         176.036102   9.700311e+08  165656432.0     23960268.0   \n6         179.544754   2.815011e+09  363418784.0     73957712.0   \n39        170.936661   9.631475e+08  201468752.0     23458760.0   \n48        164.655777   2.138210e+09  249916208.0     57218108.0   \n\n    ord_pro_num_index  ord_gmv          uv    ord_num  ord_pro_num  \n0            719425.0      0.0  26387986.0  1781877.0      20922.0  \n3            846711.0      0.0  30398846.0  2100259.0      25712.0  \n6           4177978.0      0.0  91967617.0  9880366.0     202017.0  \n39           924657.0      0.0  39985278.0  2040432.0      28743.0  \n48          3058053.0      0.0  54123352.0  6926563.0     134150.0  ",
      "text/html": "<div>\n<style scoped>\n    .dataframe tbody tr th:only-of-type {\n        vertical-align: middle;\n    }\n\n    .dataframe tbody tr th {\n        vertical-align: top;\n    }\n\n    .dataframe thead th {\n        text-align: right;\n    }\n</style>\n<table border=\"1\" class=\"dataframe\">\n  <thead>\n    <tr style=\"text-align: right;\">\n      <th></th>\n      <th>platform</th>\n      <th>category2_name</th>\n      <th>category3_name</th>\n      <th>datetype</th>\n      <th>start_day</th>\n      <th>end_day</th>\n      <th>cust_price_value</th>\n      <th>ord_gmv_index</th>\n      <th>uv_index</th>\n      <th>ord_num_index</th>\n      <th>ord_pro_num_index</th>\n      <th>ord_gmv</th>\n      <th>uv</th>\n      <th>ord_num</th>\n      <th>ord_pro_num</th>\n    </tr>\n  </thead>\n  <tbody>\n    <tr>\n      <th>0</th>\n      <td>京东</td>\n      <td>潮流女包</td>\n      <td>all2</td>\n      <td>month</td>\n      <td>2019-04-01</td>\n      <td>2019-04-30</td>\n      <td>173.847824</td>\n      <td>8.547603e+08</td>\n      <td>149737648.0</td>\n      <td>21243842.0</td>\n      <td>719425.0</td>\n      <td>0.0</td>\n      <td>26387986.0</td>\n      <td>1781877.0</td>\n      <td>20922.0</td>\n    </tr>\n    <tr>\n      <th>3</th>\n      <td>京东</td>\n      <td>潮流女包</td>\n      <td>all2</td>\n      <td>month</td>\n      <td>2019-03-01</td>\n      <td>2019-03-31</td>\n      <td>176.036102</td>\n      <td>9.700311e+08</td>\n      <td>165656432.0</td>\n      <td>23960268.0</td>\n      <td>846711.0</td>\n      <td>0.0</td>\n      <td>30398846.0</td>\n      <td>2100259.0</td>\n      <td>25712.0</td>\n    </tr>\n    <tr>\n      <th>6</th>\n      <td>京东</td>\n      <td>流行男鞋</td>\n      <td>all2</td>\n      <td>month</td>\n      <td>2019-10-01</td>\n      <td>2019-10-31</td>\n      <td>179.544754</td>\n      <td>2.815011e+09</td>\n      <td>363418784.0</td>\n      <td>73957712.0</td>\n      <td>4177978.0</td>\n      <td>0.0</td>\n      <td>91967617.0</td>\n      <td>9880366.0</td>\n      <td>202017.0</td>\n    </tr>\n    <tr>\n      <th>39</th>\n      <td>京东</td>\n      <td>潮流女包</td>\n      <td>all2</td>\n      <td>month</td>\n      <td>2019-08-01</td>\n      <td>2019-08-31</td>\n      <td>170.936661</td>\n      <td>9.631475e+08</td>\n      <td>201468752.0</td>\n      <td>23458760.0</td>\n      <td>924657.0</td>\n      <td>0.0</td>\n      <td>39985278.0</td>\n      <td>2040432.0</td>\n      <td>28743.0</td>\n    </tr>\n    <tr>\n      <th>48</th>\n      <td>京东</td>\n      <td>流行男鞋</td>\n      <td>all2</td>\n      <td>month</td>\n      <td>2020-03-01</td>\n      <td>2020-03-31</td>\n      <td>164.655777</td>\n      <td>2.138210e+09</td>\n      <td>249916208.0</td>\n      <td>57218108.0</td>\n      <td>3058053.0</td>\n      <td>0.0</td>\n      <td>54123352.0</td>\n      <td>6926563.0</td>\n      <td>134150.0</td>\n    </tr>\n  </tbody>\n</table>\n</div>"
     },
     "metadata": {},
     "execution_count": 19
    }
   ],
   "source": [
    "df_industry2.head()"
   ]
  },
  {
   "cell_type": "code",
   "execution_count": 22,
   "metadata": {},
   "outputs": [
    {
     "output_type": "execute_result",
     "data": {
      "text/plain": "  platform category2_name category3_name datetype   start_day     end_day  \\\n1       京东           潮流女包            钥匙包    month  2020-01-01  2020-01-31   \n2       京东           潮流女包            化妆包    month  2019-11-01  2019-11-30   \n4       京东           潮流女包            手提包    month  2019-01-01  2019-01-31   \n5       京东           潮流女包            斜挎包    month  2019-07-01  2019-07-31   \n7       京东           潮流女包            单肩包    month  2019-07-01  2019-07-31   \n\n   cust_price_value  ord_gmv_index     uv_index  ord_num_index  \\\n1         71.863686      5535181.0    2393312.0       162000.0   \n2         40.241833      9136534.0    4361647.0       463001.0   \n4        255.496674    186956000.0   41434108.0      2686685.0   \n5         74.237633    186562560.0   71779640.0      7175878.0   \n7        180.867874    512560832.0  111770696.0     10885603.0   \n\n   ord_pro_num_index       ord_gmv          uv   ord_num  ord_pro_num  \n1             1839.0  2.929793e+05     97469.0    3353.0         29.0  \n2             5800.0  5.713257e+05    213836.0   12065.0         86.0  \n4            48313.0  3.601038e+07   4439848.0  113290.0        819.0  \n5           166663.0  3.590430e+07   9479885.0  413665.0       3469.0  \n7           376828.0  1.496541e+08  17529552.0  722059.0       9341.0  ",
      "text/html": "<div>\n<style scoped>\n    .dataframe tbody tr th:only-of-type {\n        vertical-align: middle;\n    }\n\n    .dataframe tbody tr th {\n        vertical-align: top;\n    }\n\n    .dataframe thead th {\n        text-align: right;\n    }\n</style>\n<table border=\"1\" class=\"dataframe\">\n  <thead>\n    <tr style=\"text-align: right;\">\n      <th></th>\n      <th>platform</th>\n      <th>category2_name</th>\n      <th>category3_name</th>\n      <th>datetype</th>\n      <th>start_day</th>\n      <th>end_day</th>\n      <th>cust_price_value</th>\n      <th>ord_gmv_index</th>\n      <th>uv_index</th>\n      <th>ord_num_index</th>\n      <th>ord_pro_num_index</th>\n      <th>ord_gmv</th>\n      <th>uv</th>\n      <th>ord_num</th>\n      <th>ord_pro_num</th>\n    </tr>\n  </thead>\n  <tbody>\n    <tr>\n      <th>1</th>\n      <td>京东</td>\n      <td>潮流女包</td>\n      <td>钥匙包</td>\n      <td>month</td>\n      <td>2020-01-01</td>\n      <td>2020-01-31</td>\n      <td>71.863686</td>\n      <td>5535181.0</td>\n      <td>2393312.0</td>\n      <td>162000.0</td>\n      <td>1839.0</td>\n      <td>2.929793e+05</td>\n      <td>97469.0</td>\n      <td>3353.0</td>\n      <td>29.0</td>\n    </tr>\n    <tr>\n      <th>2</th>\n      <td>京东</td>\n      <td>潮流女包</td>\n      <td>化妆包</td>\n      <td>month</td>\n      <td>2019-11-01</td>\n      <td>2019-11-30</td>\n      <td>40.241833</td>\n      <td>9136534.0</td>\n      <td>4361647.0</td>\n      <td>463001.0</td>\n      <td>5800.0</td>\n      <td>5.713257e+05</td>\n      <td>213836.0</td>\n      <td>12065.0</td>\n      <td>86.0</td>\n    </tr>\n    <tr>\n      <th>4</th>\n      <td>京东</td>\n      <td>潮流女包</td>\n      <td>手提包</td>\n      <td>month</td>\n      <td>2019-01-01</td>\n      <td>2019-01-31</td>\n      <td>255.496674</td>\n      <td>186956000.0</td>\n      <td>41434108.0</td>\n      <td>2686685.0</td>\n      <td>48313.0</td>\n      <td>3.601038e+07</td>\n      <td>4439848.0</td>\n      <td>113290.0</td>\n      <td>819.0</td>\n    </tr>\n    <tr>\n      <th>5</th>\n      <td>京东</td>\n      <td>潮流女包</td>\n      <td>斜挎包</td>\n      <td>month</td>\n      <td>2019-07-01</td>\n      <td>2019-07-31</td>\n      <td>74.237633</td>\n      <td>186562560.0</td>\n      <td>71779640.0</td>\n      <td>7175878.0</td>\n      <td>166663.0</td>\n      <td>3.590430e+07</td>\n      <td>9479885.0</td>\n      <td>413665.0</td>\n      <td>3469.0</td>\n    </tr>\n    <tr>\n      <th>7</th>\n      <td>京东</td>\n      <td>潮流女包</td>\n      <td>单肩包</td>\n      <td>month</td>\n      <td>2019-07-01</td>\n      <td>2019-07-31</td>\n      <td>180.867874</td>\n      <td>512560832.0</td>\n      <td>111770696.0</td>\n      <td>10885603.0</td>\n      <td>376828.0</td>\n      <td>1.496541e+08</td>\n      <td>17529552.0</td>\n      <td>722059.0</td>\n      <td>9341.0</td>\n    </tr>\n  </tbody>\n</table>\n</div>"
     },
     "metadata": {},
     "execution_count": 22
    }
   ],
   "source": [
    "df_industry2[df_industry2.category3_name!='all2'].head()"
   ]
  },
  {
   "cell_type": "code",
   "execution_count": 24,
   "metadata": {},
   "outputs": [],
   "source": [
    "conn= create_engine('mysql+mysqlconnector://sz_analy:Belle2020@sz@10.251.11.5:3306/bi_analysis_sz?charset=utf8',encoding ='utf-8')   \n",
    "pd.io.sql.to_sql(df_industry2,'jd_sz_industry_summary_data_real', con=conn,chunksize=1000, schema='bi_analysis_sz',index=False,if_exists='append') # append是追加的形式写入；replace"
   ]
  },
  {
   "cell_type": "code",
   "execution_count": null,
   "metadata": {},
   "outputs": [],
   "source": []
  }
 ],
 "metadata": {
  "language_info": {
   "codemirror_mode": {
    "name": "ipython",
    "version": 3
   },
   "file_extension": ".py",
   "mimetype": "text/x-python",
   "name": "python",
   "nbconvert_exporter": "python",
   "pygments_lexer": "ipython3",
   "version": "3.6.10-final"
  },
  "orig_nbformat": 2,
  "kernelspec": {
   "name": "python3",
   "display_name": "Python 3"
  }
 },
 "nbformat": 4,
 "nbformat_minor": 2
}